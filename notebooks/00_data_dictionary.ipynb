{
    "cells": [
        {
            "cell_type": "markdown",
            "metadata": {},
            "source": [
                "Column number | Column name | Data level | Description\n",
                ":---|:---|:---|:----  \n",
                "0  | 'Unnamed: 0'          | continuous (int)     | Running number / index column (technical, not content-related)\n",
                "1  | 'track_id'         | categorical (nominal)| The Spotify ID for the track\n",
                "2  | 'artists'          | categorical (nominal)| The artists' names who performed the track. If there is more than one artist, they are separated by a ;\n",
                "3  | 'album_name'       | categorical (nominal)| The album name in which the track appears\n",
                "4  | 'track_name'       | categorical (nominal)| Name of the track\n",
                "5  | 'popularity'       | continuous (int)     | The popularity of a track is a value between 0 and 100, with 100 being the most popular. The popularity is calculated by algorithm and is based, in the most part, on the total number of plays the track has had and how recent those plays are. Generally speaking, songs that are being played a lot now will have a higher popularity than songs that were played a lot in the past. Duplicate tracks (e.g. the same track from a single and an album) are rated independently. Artist and album popularity is derived mathematically from track popularity.\n",
                "6  | 'duration_ms'      | continuous (int)     | The track length in milliseconds\n",
                "7  | 'explicit'         | dichotomous (binary) | Whether or not the track has explicit lyrics (true = yes it does; false = no it does not OR unknown)\n",
                "8  | 'danceability'     | continuous (float)   | Danceability describes how suitable a track is for dancing based on a combination of musical elements including tempo, rhythm stability, beat strength, and overall regularity. A value of 0.0 is least danceable and 1.0 is most danceable\n",
                "9  | 'energy'           | continuous (float)   | Energy is a measure from 0.0 to 1.0 and represents a perceptual measure of intensity and activity. Typically, energetic tracks feel fast, loud, and noisy. For example, death metal has high energy, while a Bach prelude scores low on the scale\n",
                "10 | 'key'              | categorical (ordinal)| The key the track is in. Integers map to pitches using standard Pitch Class notation. E.g. 0 = C, 1 = C♯/D♭, 2 = D, and so on. If no key was detected, the value is -1\n",
                "11 | 'loudness'         | continuous (float)   | The overall loudness of a track in decibels (dB)\n",
                "12 | 'mode'             | dichotomous (binary) | Mode indicates the modality (major or minor) of a track, the type of scale from which its melodic content is derived. Major is represented by 1 and minor is 0\n",
                "13 | 'speechiness'      | continuous (float)   | Speechiness detects the presence of spoken words in a track. The more exclusively speech-like the recording (e.g. talk show, audio book, poetry), the closer to 1.0 the attribute value. Values above 0.66 describe tracks that are probably made entirely of spoken words. Values between 0.33 and 0.66 describe tracks that may contain both music and speech, either in sections or layered, including such cases as rap music. Values below 0.33 most likely represent music and other non-speech-like tracks\n",
                "14 | 'acousticness'     | continuous (float)   | A confidence measure from 0.0 to 1.0 of whether the track is acoustic. 1.0 represents high confidence the track is acoustic\n",
                "15 | 'instrumentalness' | continuous (float)   | Predicts whether a track contains no vocals. 'ooh' and 'aah' sounds are treated as instrumental in this context. Rap or spoken word tracks are clearly 'vocal'. The closer the instrumentalness value is to 1.0, the greater likelihood the track contains no vocal content\n",
                "16 | 'liveness'         | continuous (float)   | Detects the presence of an audience in the recording. Higher liveness values represent an increased probability that the track was performed live. A value above 0.8 provides strong likelihood that the track is live\n",
                "17 | 'valence'          | continuous (float)   | A measure from 0.0 to 1.0 describing the musical positiveness conveyed by a track. Tracks with high valence sound more positive (e.g. happy, cheerful, euphoric), while tracks with low valence sound more negative (e.g. sad, depressed, angry)\n",
                "18 | 'tempo'            | continuous (float)   | The overall estimated tempo of a track in beats per minute (BPM). In musical terminology, tempo is the speed or pace of a given piece and derives directly from the average beat duration\n",
                "19 | 'time_signature'   | categorical (ordinal)| An estimated time signature. The time signature (meter) is a notational convention to specify how many beats are in each bar (or measure). The time signature ranges from 3 to 7 indicating time signatures of 3/4, to 7/4.\n",
                "20 | 'track_genre'      | categorical (nominal)| The genre in which the track belongs"
            ]
        }
    ],
    "metadata": {
        "kernelspec": {
            "display_name": "Python 3 (ipykernel)",
            "language": "python",
            "name": "python3"
        },
        "language_info": {
            "codemirror_mode": {
                "name": "ipython",
                "version": 3
            },
            "file_extension": ".py",
            "mimetype": "text/x-python",
            "name": "python",
            "nbconvert_exporter": "python",
            "pygments_lexer": "ipython3",
            "version": "3.8.10"
        }
    },
    "nbformat": 4,
    "nbformat_minor": 4
}