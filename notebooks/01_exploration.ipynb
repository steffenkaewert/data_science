{
 "cells": [
  {
   "cell_type": "code",
   "execution_count": null,
   "id": "81f4d3c3",
   "metadata": {},
   "outputs": [],
   "source": [
    "import seaborn as sns\n",
    "import matplotlib.pyplot as plt\n",
    "import pandas as pd\n",
    "import numpy as np\n",
    "\n",
    "from dpp.data import load_from_kaggle\n"
   ]
  },
  {
   "cell_type": "code",
   "execution_count": null,
   "id": "014523c2",
   "metadata": {},
   "outputs": [],
   "source": [
    "dataset_link = \"shriyashjagtap/esg-and-financial-performance-dataset\" # replace with your dataset link from Kaggle \n",
    "destination = \"../data/raw\"\n",
    "dataset_name = dataset_link.split(\"/\")[-1]\n",
    "\n",
    "files = load_from_kaggle(\n",
    "    dataset_link=dataset_link, \n",
    "    destination=destination,\n",
    "    )"
   ]
  },
  {
   "cell_type": "code",
   "execution_count": null,
   "id": "01645498",
   "metadata": {},
   "outputs": [],
   "source": [
    "files"
   ]
  },
  {
   "cell_type": "code",
   "execution_count": null,
   "id": "92bb5c04",
   "metadata": {},
   "outputs": [],
   "source": [
    "df = pd.read_csv(\"/\".join([\"../data/raw/\", dataset_name, files[0]]))\n",
    "df.head()"
   ]
  },
  {
   "cell_type": "code",
   "execution_count": null,
   "id": "46ca62a1",
   "metadata": {},
   "outputs": [],
   "source": [
    "display(\n",
    "    \"Shape\",\n",
    "    df.shape,\n",
    "    \"Description\",\n",
    "    df.describe().round(2),\n",
    "    \"Duplicates\",\n",
    "    df.duplicated().sum(),\n",
    ")\n",
    "\n",
    "\n",
    "pd.DataFrame(\n",
    "    {\n",
    "        \"Data Types\": df.dtypes,\n",
    "        \"Missing Values\": df.isnull().sum(),\n",
    "        \"Unique Values\": df.nunique(),\n",
    "        \"Sample Values\": [df[col].sample(3).tolist() for col in df.columns]\n",
    "    })\n"
   ]
  },
  {
   "cell_type": "code",
   "execution_count": null,
   "id": "fda36560",
   "metadata": {},
   "outputs": [],
   "source": [
    "sns.heatmap(df.corr(numeric_only=True), annot=True, cmap=\"coolwarm\", center=0);"
   ]
  }
 ],
 "metadata": {
  "kernelspec": {
   "display_name": "protfolio-project",
   "language": "python",
   "name": "python3"
  },
  "language_info": {
   "codemirror_mode": {
    "name": "ipython",
    "version": 3
   },
   "file_extension": ".py",
   "mimetype": "text/x-python",
   "name": "python",
   "nbconvert_exporter": "python",
   "pygments_lexer": "ipython3",
   "version": "3.12.4"
  }
 },
 "nbformat": 4,
 "nbformat_minor": 5
}
